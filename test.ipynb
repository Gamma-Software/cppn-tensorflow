{
 "cells": [
  {
   "cell_type": "code",
   "execution_count": null,
   "source": [
    "%run -i sampler.py"
   ],
   "outputs": [],
   "metadata": {}
  }
 ],
 "metadata": {
  "orig_nbformat": 4,
  "language_info": {
   "name": "python"
  }
 },
 "nbformat": 4,
 "nbformat_minor": 2
}